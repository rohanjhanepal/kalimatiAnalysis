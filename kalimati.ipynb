{
 "cells": [
  {
   "cell_type": "markdown",
   "id": "aa64be44",
   "metadata": {},
   "source": [
    "# Analysing the kalimati data set from kalimati-tarkari-dataset\n",
    "### link: https://opendatanepal.com/dataset/kalimati-tarkari-dataset\n",
    "### kalimati-vegetable-market is a well known fruits and vegetables market of kathmandu"
   ]
  },
  {
   "cell_type": "code",
   "execution_count": 1,
   "id": "ad44734d",
   "metadata": {},
   "outputs": [],
   "source": [
    "#Importing necessary libraries\n",
    "import seaborn as sns\n",
    "from matplotlib import pyplot as plt\n",
    "%matplotlib inline\n",
    "import pandas as pd\n",
    "import numpy as np\n",
    "from difflib import get_close_matches "
   ]
  },
  {
   "cell_type": "code",
   "execution_count": 2,
   "id": "ccb36a45",
   "metadata": {},
   "outputs": [],
   "source": [
    "#loading the kalimati data set\n",
    "df = pd.read_csv(\"kalimati.csv\")"
   ]
  },
  {
   "cell_type": "code",
   "execution_count": 3,
   "id": "b2cfc509",
   "metadata": {},
   "outputs": [
    {
     "data": {
      "text/html": [
       "<div>\n",
       "<style scoped>\n",
       "    .dataframe tbody tr th:only-of-type {\n",
       "        vertical-align: middle;\n",
       "    }\n",
       "\n",
       "    .dataframe tbody tr th {\n",
       "        vertical-align: top;\n",
       "    }\n",
       "\n",
       "    .dataframe thead th {\n",
       "        text-align: right;\n",
       "    }\n",
       "</style>\n",
       "<table border=\"1\" class=\"dataframe\">\n",
       "  <thead>\n",
       "    <tr style=\"text-align: right;\">\n",
       "      <th></th>\n",
       "      <th>_id</th>\n",
       "      <th>SN</th>\n",
       "      <th>Commodity</th>\n",
       "      <th>Date</th>\n",
       "      <th>Unit</th>\n",
       "      <th>Minimum</th>\n",
       "      <th>Maximum</th>\n",
       "      <th>Average</th>\n",
       "    </tr>\n",
       "  </thead>\n",
       "  <tbody>\n",
       "    <tr>\n",
       "      <th>0</th>\n",
       "      <td>1</td>\n",
       "      <td>0</td>\n",
       "      <td>Tomato Big(Nepali)</td>\n",
       "      <td>2013-06-16T00:00:00</td>\n",
       "      <td>Kg</td>\n",
       "      <td>35</td>\n",
       "      <td>40</td>\n",
       "      <td>37.5</td>\n",
       "    </tr>\n",
       "    <tr>\n",
       "      <th>1</th>\n",
       "      <td>2</td>\n",
       "      <td>1</td>\n",
       "      <td>Tomato Small(Local)</td>\n",
       "      <td>2013-06-16T00:00:00</td>\n",
       "      <td>Kg</td>\n",
       "      <td>26</td>\n",
       "      <td>32</td>\n",
       "      <td>29.0</td>\n",
       "    </tr>\n",
       "    <tr>\n",
       "      <th>2</th>\n",
       "      <td>3</td>\n",
       "      <td>2</td>\n",
       "      <td>Potato Red</td>\n",
       "      <td>2013-06-16T00:00:00</td>\n",
       "      <td>Kg</td>\n",
       "      <td>20</td>\n",
       "      <td>21</td>\n",
       "      <td>20.5</td>\n",
       "    </tr>\n",
       "    <tr>\n",
       "      <th>3</th>\n",
       "      <td>4</td>\n",
       "      <td>3</td>\n",
       "      <td>Potato White</td>\n",
       "      <td>2013-06-16T00:00:00</td>\n",
       "      <td>Kg</td>\n",
       "      <td>15</td>\n",
       "      <td>16</td>\n",
       "      <td>15.5</td>\n",
       "    </tr>\n",
       "    <tr>\n",
       "      <th>4</th>\n",
       "      <td>5</td>\n",
       "      <td>4</td>\n",
       "      <td>Onion Dry (Indian)</td>\n",
       "      <td>2013-06-16T00:00:00</td>\n",
       "      <td>Kg</td>\n",
       "      <td>28</td>\n",
       "      <td>30</td>\n",
       "      <td>29.0</td>\n",
       "    </tr>\n",
       "  </tbody>\n",
       "</table>\n",
       "</div>"
      ],
      "text/plain": [
       "   _id  SN            Commodity                 Date Unit  Minimum  Maximum  \\\n",
       "0    1   0   Tomato Big(Nepali)  2013-06-16T00:00:00   Kg       35       40   \n",
       "1    2   1  Tomato Small(Local)  2013-06-16T00:00:00   Kg       26       32   \n",
       "2    3   2           Potato Red  2013-06-16T00:00:00   Kg       20       21   \n",
       "3    4   3         Potato White  2013-06-16T00:00:00   Kg       15       16   \n",
       "4    5   4   Onion Dry (Indian)  2013-06-16T00:00:00   Kg       28       30   \n",
       "\n",
       "   Average  \n",
       "0     37.5  \n",
       "1     29.0  \n",
       "2     20.5  \n",
       "3     15.5  \n",
       "4     29.0  "
      ]
     },
     "execution_count": 3,
     "metadata": {},
     "output_type": "execute_result"
    }
   ],
   "source": [
    "df.head()"
   ]
  },
  {
   "cell_type": "code",
   "execution_count": 4,
   "id": "36e0e733",
   "metadata": {},
   "outputs": [],
   "source": [
    "df.drop(columns=[\"_id\" , \"SN\"] , inplace=True) # we dont need these columns"
   ]
  },
  {
   "cell_type": "code",
   "execution_count": 5,
   "id": "fe8a45fd",
   "metadata": {},
   "outputs": [
    {
     "name": "stdout",
     "output_type": "stream",
     "text": [
      "<class 'pandas.core.frame.DataFrame'>\n",
      "RangeIndex: 197161 entries, 0 to 197160\n",
      "Data columns (total 6 columns):\n",
      " #   Column     Non-Null Count   Dtype  \n",
      "---  ------     --------------   -----  \n",
      " 0   Commodity  197161 non-null  object \n",
      " 1   Date       197161 non-null  object \n",
      " 2   Unit       197161 non-null  object \n",
      " 3   Minimum    197161 non-null  int64  \n",
      " 4   Maximum    197161 non-null  int64  \n",
      " 5   Average    197161 non-null  float64\n",
      "dtypes: float64(1), int64(2), object(3)\n",
      "memory usage: 9.0+ MB\n"
     ]
    }
   ],
   "source": [
    "df.info()"
   ]
  },
  {
   "cell_type": "code",
   "execution_count": 6,
   "id": "8f432c1b",
   "metadata": {},
   "outputs": [
    {
     "data": {
      "text/plain": [
       "Commodity     object\n",
       "Date          object\n",
       "Unit          object\n",
       "Minimum        int64\n",
       "Maximum        int64\n",
       "Average      float64\n",
       "dtype: object"
      ]
     },
     "execution_count": 6,
     "metadata": {},
     "output_type": "execute_result"
    }
   ],
   "source": [
    "df.dtypes"
   ]
  },
  {
   "cell_type": "code",
   "execution_count": 7,
   "id": "9a1f5298",
   "metadata": {},
   "outputs": [
    {
     "data": {
      "text/html": [
       "<div>\n",
       "<style scoped>\n",
       "    .dataframe tbody tr th:only-of-type {\n",
       "        vertical-align: middle;\n",
       "    }\n",
       "\n",
       "    .dataframe tbody tr th {\n",
       "        vertical-align: top;\n",
       "    }\n",
       "\n",
       "    .dataframe thead th {\n",
       "        text-align: right;\n",
       "    }\n",
       "</style>\n",
       "<table border=\"1\" class=\"dataframe\">\n",
       "  <thead>\n",
       "    <tr style=\"text-align: right;\">\n",
       "      <th></th>\n",
       "      <th>Minimum</th>\n",
       "      <th>Maximum</th>\n",
       "      <th>Average</th>\n",
       "    </tr>\n",
       "  </thead>\n",
       "  <tbody>\n",
       "    <tr>\n",
       "      <th>count</th>\n",
       "      <td>197161.000000</td>\n",
       "      <td>197161.000000</td>\n",
       "      <td>197161.000000</td>\n",
       "    </tr>\n",
       "    <tr>\n",
       "      <th>mean</th>\n",
       "      <td>85.423938</td>\n",
       "      <td>94.161284</td>\n",
       "      <td>89.792611</td>\n",
       "    </tr>\n",
       "    <tr>\n",
       "      <th>std</th>\n",
       "      <td>77.058896</td>\n",
       "      <td>82.375858</td>\n",
       "      <td>79.619003</td>\n",
       "    </tr>\n",
       "    <tr>\n",
       "      <th>min</th>\n",
       "      <td>1.000000</td>\n",
       "      <td>6.000000</td>\n",
       "      <td>5.000000</td>\n",
       "    </tr>\n",
       "    <tr>\n",
       "      <th>25%</th>\n",
       "      <td>40.000000</td>\n",
       "      <td>45.000000</td>\n",
       "      <td>42.500000</td>\n",
       "    </tr>\n",
       "    <tr>\n",
       "      <th>50%</th>\n",
       "      <td>60.000000</td>\n",
       "      <td>70.000000</td>\n",
       "      <td>65.000000</td>\n",
       "    </tr>\n",
       "    <tr>\n",
       "      <th>75%</th>\n",
       "      <td>100.000000</td>\n",
       "      <td>110.000000</td>\n",
       "      <td>105.000000</td>\n",
       "    </tr>\n",
       "    <tr>\n",
       "      <th>max</th>\n",
       "      <td>1800.000000</td>\n",
       "      <td>2000.000000</td>\n",
       "      <td>1900.000000</td>\n",
       "    </tr>\n",
       "  </tbody>\n",
       "</table>\n",
       "</div>"
      ],
      "text/plain": [
       "             Minimum        Maximum        Average\n",
       "count  197161.000000  197161.000000  197161.000000\n",
       "mean       85.423938      94.161284      89.792611\n",
       "std        77.058896      82.375858      79.619003\n",
       "min         1.000000       6.000000       5.000000\n",
       "25%        40.000000      45.000000      42.500000\n",
       "50%        60.000000      70.000000      65.000000\n",
       "75%       100.000000     110.000000     105.000000\n",
       "max      1800.000000    2000.000000    1900.000000"
      ]
     },
     "execution_count": 7,
     "metadata": {},
     "output_type": "execute_result"
    }
   ],
   "source": [
    "df.describe()"
   ]
  },
  {
   "cell_type": "code",
   "execution_count": 8,
   "id": "fab51b9a",
   "metadata": {
    "scrolled": true
   },
   "outputs": [
    {
     "data": {
      "text/plain": [
       "Kg      184408\n",
       "KG        6889\n",
       "1 Pc      3120\n",
       "Doz       2744\n",
       "Name: Unit, dtype: int64"
      ]
     },
     "execution_count": 8,
     "metadata": {},
     "output_type": "execute_result"
    }
   ],
   "source": [
    "#there are different units \n",
    "df[\"Unit\"].value_counts() "
   ]
  },
  {
   "cell_type": "code",
   "execution_count": 9,
   "id": "b5617bba",
   "metadata": {},
   "outputs": [],
   "source": [
    "#first for Kg and KG we can replace all the occourances of KG with Kg\n",
    "df[\"Unit\"] = df[\"Unit\"].str.replace('KG' , 'Kg')"
   ]
  },
  {
   "cell_type": "code",
   "execution_count": 10,
   "id": "0cd8dd52",
   "metadata": {},
   "outputs": [],
   "source": [
    "df[\"Date\"] = df[\"Date\"].str.split('-' , expand=True)[0]"
   ]
  },
  {
   "cell_type": "code",
   "execution_count": 11,
   "id": "ee2e0f4d",
   "metadata": {},
   "outputs": [
    {
     "data": {
      "text/plain": [
       "0"
      ]
     },
     "execution_count": 11,
     "metadata": {},
     "output_type": "execute_result"
    }
   ],
   "source": [
    "df[\"Date\"].isna().sum()"
   ]
  },
  {
   "cell_type": "code",
   "execution_count": 12,
   "id": "29e1c89f",
   "metadata": {},
   "outputs": [],
   "source": [
    "df[\"Date\"] = df[\"Date\"].astype(int)"
   ]
  },
  {
   "cell_type": "code",
   "execution_count": 13,
   "id": "cc9bfb42",
   "metadata": {},
   "outputs": [
    {
     "data": {
      "text/plain": [
       "184067    45\n",
       "184169    45\n",
       "184268    42\n",
       "184367    45\n",
       "184465    45\n",
       "          ..\n",
       "196712    38\n",
       "196803    38\n",
       "196894    38\n",
       "196985    37\n",
       "197076    37\n",
       "Name: Maximum, Length: 132, dtype: int64"
      ]
     },
     "execution_count": 13,
     "metadata": {},
     "output_type": "execute_result"
    }
   ],
   "source": [
    "df[(df[\"Date\"] == 2021) & (df[\"Commodity\"] == \"Potato Red\")][\"Maximum\"]"
   ]
  },
  {
   "cell_type": "code",
   "execution_count": 14,
   "id": "12ff6ca0",
   "metadata": {},
   "outputs": [],
   "source": [
    "grouped = df.groupby([\"Date\" , \"Commodity\"])[\"Maximum\"].agg(\"mean\").reset_index()"
   ]
  },
  {
   "cell_type": "code",
   "execution_count": 15,
   "id": "9f4830a7",
   "metadata": {},
   "outputs": [],
   "source": [
    "grouped_df = pd.DataFrame(grouped)\n",
    "grouped_df = grouped_df.rename(columns={'Maximum': 'Mean_Price'})"
   ]
  },
  {
   "cell_type": "code",
   "execution_count": 16,
   "id": "08e5e303",
   "metadata": {},
   "outputs": [
    {
     "data": {
      "text/html": [
       "<div>\n",
       "<style scoped>\n",
       "    .dataframe tbody tr th:only-of-type {\n",
       "        vertical-align: middle;\n",
       "    }\n",
       "\n",
       "    .dataframe tbody tr th {\n",
       "        vertical-align: top;\n",
       "    }\n",
       "\n",
       "    .dataframe thead th {\n",
       "        text-align: right;\n",
       "    }\n",
       "</style>\n",
       "<table border=\"1\" class=\"dataframe\">\n",
       "  <thead>\n",
       "    <tr style=\"text-align: right;\">\n",
       "      <th></th>\n",
       "      <th>Date</th>\n",
       "      <th>Commodity</th>\n",
       "      <th>Mean_Price</th>\n",
       "    </tr>\n",
       "  </thead>\n",
       "  <tbody>\n",
       "    <tr>\n",
       "      <th>0</th>\n",
       "      <td>2013</td>\n",
       "      <td>Apple(Jholey)</td>\n",
       "      <td>116.891026</td>\n",
       "    </tr>\n",
       "    <tr>\n",
       "      <th>1</th>\n",
       "      <td>2013</td>\n",
       "      <td>Arum</td>\n",
       "      <td>38.215278</td>\n",
       "    </tr>\n",
       "    <tr>\n",
       "      <th>2</th>\n",
       "      <td>2013</td>\n",
       "      <td>Asparagus</td>\n",
       "      <td>212.358491</td>\n",
       "    </tr>\n",
       "    <tr>\n",
       "      <th>3</th>\n",
       "      <td>2013</td>\n",
       "      <td>Bakula</td>\n",
       "      <td>82.407407</td>\n",
       "    </tr>\n",
       "    <tr>\n",
       "      <th>4</th>\n",
       "      <td>2013</td>\n",
       "      <td>Bamboo Shoot</td>\n",
       "      <td>80.031847</td>\n",
       "    </tr>\n",
       "  </tbody>\n",
       "</table>\n",
       "</div>"
      ],
      "text/plain": [
       "   Date      Commodity  Mean_Price\n",
       "0  2013  Apple(Jholey)  116.891026\n",
       "1  2013           Arum   38.215278\n",
       "2  2013      Asparagus  212.358491\n",
       "3  2013         Bakula   82.407407\n",
       "4  2013   Bamboo Shoot   80.031847"
      ]
     },
     "execution_count": 16,
     "metadata": {},
     "output_type": "execute_result"
    }
   ],
   "source": [
    "grouped_df.head()"
   ]
  },
  {
   "cell_type": "code",
   "execution_count": 17,
   "id": "8e5a5265",
   "metadata": {},
   "outputs": [],
   "source": [
    "commodity = grouped_df[\"Commodity\"].value_counts()\n",
    "commodity = list(commodity.index) #getting list of commodities"
   ]
  },
  {
   "cell_type": "code",
   "execution_count": 18,
   "id": "729d7757",
   "metadata": {},
   "outputs": [],
   "source": [
    "plt.style.use('ggplot') #changind style"
   ]
  },
  {
   "cell_type": "code",
   "execution_count": 19,
   "id": "6ec4aaaf",
   "metadata": {},
   "outputs": [],
   "source": [
    "def show(keyword):\n",
    "    fig , ax = plt.subplots(2,figsize=(5,5) ,sharex=True)\n",
    "    this_commo = grouped_df[grouped_df[\"Commodity\"] == keyword]\n",
    "    ax[0].bar(this_commo[\"Date\"] , this_commo[\"Mean_Price\"])\n",
    "    ax[0].set( ylabel=\"Price\" , title=f\"Year V/S AVG Price for {keyword} \")\n",
    "    \n",
    "    ax[1].plot(this_commo[\"Date\"] , this_commo[\"Mean_Price\"])\n",
    "    ax[1].set(xlabel=\"year\" , ylabel=\"Price\" )\n",
    "    plt.subplots_adjust(hspace=0.06) "
   ]
  },
  {
   "cell_type": "code",
   "execution_count": 20,
   "id": "524c1b14",
   "metadata": {},
   "outputs": [
    {
     "data": {
      "image/png": "[encoded data removed]",
      "text/plain": [
       "<Figure size 500x500 with 2 Axes>"
      ]
     },
     "metadata": {},
     "output_type": "display_data"
    }
   ],
   "source": [
    "show(\"Tomato Big(Nepali)\") #swap with any commodity to view the trend of price in last decade"
   ]
  },
  {
   "cell_type": "markdown",
   "id": "83d3e535",
   "metadata": {},
   "source": [
    "### Lets use difflib.get_close_matches for searching "
   ]
  },
  {
   "cell_type": "code",
   "execution_count": 21,
   "id": "9ac46135",
   "metadata": {},
   "outputs": [
    {
     "data": {
      "text/plain": [
       "['Onion Green',\n",
       " 'Mandarin',\n",
       " 'Mint',\n",
       " 'Onion Dry (Indian)',\n",
       " 'Onion Dry (Chinese)']"
      ]
     },
     "execution_count": 21,
     "metadata": {},
     "output_type": "execute_result"
    }
   ],
   "source": [
    "item = \"Onion\" #replace with anythin you want to see\n",
    "get_close_matches(item, commodity , n = 5 , cutoff=0.3 ) #to find possiblities and to correct you"
   ]
  },
  {
   "cell_type": "code",
   "execution_count": 22,
   "id": "30440442",
   "metadata": {},
   "outputs": [
    {
     "data": {
      "image/png": "[encoded data removed]",
      "text/plain": [
       "<Figure size 500x500 with 2 Axes>"
      ]
     },
     "metadata": {},
     "output_type": "display_data"
    }
   ],
   "source": [
    "show(\"Onion Dry (Indian)\") #copy and replace from above to see"
   ]
  }
 ],
 "metadata": {
  "kernelspec": {
   "display_name": "Python 3 (ipykernel)",
   "language": "python",
   "name": "python3"
  },
  "language_info": {
   "codemirror_mode": {
    "name": "ipython",
    "version": 3
   },
   "file_extension": ".py",
   "mimetype": "text/x-python",
   "name": "python",
   "nbconvert_exporter": "python",
   "pygments_lexer": "ipython3",
   "version": "3.8.0"
  }
 },
 "nbformat": 4,
 "nbformat_minor": 5
}
